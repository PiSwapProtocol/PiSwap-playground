{
 "cells": [
  {
   "cell_type": "code",
   "execution_count": null,
   "metadata": {},
   "outputs": [],
   "source": [
    "# autoreload libraries automatically when making changes\n",
    "%load_ext autoreload\n",
    "%autoreload 2"
   ]
  },
  {
   "cell_type": "code",
   "execution_count": null,
   "metadata": {},
   "outputs": [],
   "source": [
    "# import PiSwap models\n",
    "from lib.market import PiSwapMarket\n",
    "from lib.account import Account\n",
    "from lib.types import TokenType"
   ]
  },
  {
   "cell_type": "code",
   "execution_count": null,
   "metadata": {},
   "outputs": [],
   "source": [
    "# create a new market instance\n",
    "market = PiSwapMarket()\n",
    "# set up investors with initial ETH balances\n",
    "A = Account(\"A\", 10000000)\n",
    "B = Account(\"B\", 10000000)\n",
    "C = Account(\"C\", 10000000)"
   ]
  },
  {
   "cell_type": "code",
   "execution_count": null,
   "metadata": {},
   "outputs": [],
   "source": [
    "# pay 1 eth to mint bull and bear tokens\n",
    "minted_bull_bear = market.mint(A, 1)"
   ]
  },
  {
   "cell_type": "code",
   "execution_count": null,
   "metadata": {},
   "outputs": [],
   "source": [
    "# burn 1000 tokens and receive eth\n",
    "amount_eth = market.burn(A, 1000)"
   ]
  },
  {
   "cell_type": "code",
   "execution_count": null,
   "metadata": {},
   "outputs": [],
   "source": [
    "# add initial liquidity\n",
    "amount_eth = 1\n",
    "amount_bull = 1000\n",
    "amount_bear = 500\n",
    "amount_liquidity_tokens = market.initializePool(A, amount_eth, amount_bull, amount_bear)"
   ]
  },
  {
   "cell_type": "code",
   "execution_count": null,
   "metadata": {},
   "outputs": [],
   "source": [
    "# add more liquidity\n",
    "# disable logging, by passing parameter\n",
    "amount_liquidity_tokens = market.addLiquidity(A, 1, log=False)\n",
    "print(amount_liquidity_tokens)"
   ]
  },
  {
   "cell_type": "code",
   "execution_count": null,
   "metadata": {},
   "outputs": [],
   "source": [
    "# remove liquidity\n",
    "amount_eth, amount_bull, amount_bear = market.removeLiquidity(A, 0.5)"
   ]
  },
  {
   "cell_type": "code",
   "execution_count": null,
   "metadata": {},
   "outputs": [],
   "source": [
    "# sell tokens\n",
    "amount_out = market.swap(A, TokenType.BEAR, TokenType.ETH, 100)\n",
    "print(amount_out)"
   ]
  },
  {
   "cell_type": "code",
   "execution_count": null,
   "metadata": {},
   "outputs": [],
   "source": [
    "# buy tokens\n",
    "amount_out = market.swap(B, TokenType.ETH, TokenType.BULL, 0.1)\n",
    "print(amount_out)"
   ]
  },
  {
   "cell_type": "code",
   "execution_count": null,
   "metadata": {},
   "outputs": [],
   "source": [
    "# number of supply of tokens based on deposited eth \n",
    "import matplotlib.pyplot as plt\n",
    "import numpy as np\n",
    "from lib.formula import *\n",
    "x = np.arange(0.0, 1000, 0.001)\n",
    "plt.plot(x, token_formula(x), 'r-')\n",
    "plt.ylim((0, factor))\n",
    "plt.xlabel(\"ETH\")\n",
    "plt.ylabel(\"Token supply\")\n",
    "plt.show()"
   ]
  }
 ],
 "metadata": {
  "kernelspec": {
   "display_name": "Python 3.8.3 64-bit ('base': conda)",
   "metadata": {
    "interpreter": {
     "hash": "76c2c3920dc5b18a3a26fc192b35c54e67ea9e192905d15409e0d204d391ec86"
    }
   },
   "name": "python3"
  },
  "language_info": {
   "codemirror_mode": {
    "name": "ipython",
    "version": 3
   },
   "file_extension": ".py",
   "mimetype": "text/x-python",
   "name": "python",
   "nbconvert_exporter": "python",
   "pygments_lexer": "ipython3",
   "version": "3.8.9"
  },
  "orig_nbformat": 2
 },
 "nbformat": 4,
 "nbformat_minor": 2
}
