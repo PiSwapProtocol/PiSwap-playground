{
 "cells": [
  {
   "cell_type": "code",
   "execution_count": 1,
   "metadata": {},
   "outputs": [],
   "source": [
    "# autoreload libraries automatically when making changes\n",
    "%load_ext autoreload\n",
    "%autoreload 2"
   ]
  },
  {
   "cell_type": "code",
   "execution_count": 2,
   "metadata": {},
   "outputs": [],
   "source": [
    "# import PiSwap models\n",
    "from lib.market import PiSwapMarket\n",
    "from lib.account import Account\n",
    "from lib.types import TokenType"
   ]
  },
  {
   "cell_type": "code",
   "execution_count": 3,
   "metadata": {},
   "outputs": [],
   "source": [
    "# create a new market instance\n",
    "market = PiSwapMarket()\n",
    "# set up investors with initial ETH balances\n",
    "A = Account(\"A\", 10000000)\n",
    "B = Account(\"B\", 10000000)\n",
    "C = Account(\"C\", 10000000)"
   ]
  },
  {
   "cell_type": "code",
   "execution_count": 4,
   "metadata": {},
   "outputs": [
    {
     "name": "stdout",
     "output_type": "stream",
     "text": [
      "Transactions:\n",
      "TRANSFER: A 1 ETH => Market\n",
      "MINT: 9900.990099009941 BULL => A\n",
      "MINT: 9900.990099009941 BEAR => A\n",
      "_________________________________________________\n",
      "\u001b[1mToken price\u001b[0m\n",
      "Mint: \u001b[94m0.00010201010303489966\u001b[0m \u001b[91m0.00010201010303489966\u001b[0m\n",
      "_________________________________________________\n",
      "\n",
      "Cannot get NFT price, swap not initialized\n",
      "_________________________________________________\n",
      "\n",
      "A balance: 9999999ETH 9900.99BULL 9900.99BEAR 0LT\n"
     ]
    }
   ],
   "source": [
    "# pay 1 eth to mint bull and bear tokens\n",
    "minted_bull_bear = market.mint(A, 1)"
   ]
  },
  {
   "cell_type": "code",
   "execution_count": 5,
   "metadata": {},
   "outputs": [
    {
     "name": "stdout",
     "output_type": "stream",
     "text": [
      "Transactions:\n",
      "BURN: A => 1000 BULL\n",
      "BURN: A => 1000 BEAR\n",
      "TRANSFER: Market 0.10190707385540065 ETH => A\n",
      "_________________________________________________\n",
      "\u001b[1mToken price\u001b[0m\n",
      "Mint: \u001b[94m0.00010180435427287193\u001b[0m \u001b[91m0.00010180435427287193\u001b[0m\n",
      "_________________________________________________\n",
      "\n",
      "Cannot get NFT price, swap not initialized\n",
      "_________________________________________________\n",
      "\n",
      "A balance: 9999999.1ETH 8900.99BULL 8900.99BEAR 0LT\n"
     ]
    }
   ],
   "source": [
    "# burn 1000 tokens and receive eth\n",
    "amount_eth = market.burn(A, 1000)"
   ]
  },
  {
   "cell_type": "code",
   "execution_count": 6,
   "metadata": {},
   "outputs": [
    {
     "name": "stdout",
     "output_type": "stream",
     "text": [
      "Transactions:\n",
      "TRANSFER: A 1000 BULL => Swap\n",
      "TRANSFER: A 500 BEAR => Swap\n",
      "TRANSFER: A 1 ETH => Swap\n",
      "MINT: 1 LIQUIDITY => A\n",
      "_________________________________________________\n",
      "\u001b[1mToken price\u001b[0m\n",
      "Mint: \u001b[94m0.00010180435427287193\u001b[0m \u001b[91m0.00010180435427287193\u001b[0m\n",
      "Swap: \u001b[94m0.0003336670003336595\u001b[0m \u001b[91m0.0013360053440213404\u001b[0m\n",
      "_________________________________________________\n",
      "\n",
      "\u001b[1mPool sizes\u001b[0m\n",
      "\u001b[94mBULL\u001b[0m: 1000 tokens & 0.33333 ETH\n",
      "\u001b[91mBEAR\u001b[0m: 500 tokens & 0.66667 ETH\n",
      "_________________________________________________\n",
      "\n",
      "\u001b[1mBuying certifictes for 0.001 ETH:\u001b[0m\n",
      "\u001b[94mBull swap\u001b[0m: Tokens out: 2.99103 Average price: 0.00033 ETH\n",
      "\u001b[91mBear swap\u001b[0m: Tokens out: 0.74888 Average price: 0.00134 ETH\n",
      "_________________________________________________\n",
      "\n",
      "\u001b[1mSelling 1 certifictes:\u001b[0m\n",
      "\u001b[94mBull swap\u001b[0m: ETH out: 0.00033 Average price: 0.00033 ETH\n",
      "\u001b[91mBear swap\u001b[0m: ETH out: 0.00133 Average price: 0.00133 ETH\n",
      "_________________________________________________\n",
      "\n",
      "NFT Value: 0.5ETH\n",
      "_________________________________________________\n",
      "\n",
      "A balance: 9999998.1ETH 7900.99BULL 8400.99BEAR 1LT\n"
     ]
    }
   ],
   "source": [
    "# add initial liquidity\n",
    "amount_eth = 1\n",
    "amount_bull = 1000\n",
    "amount_bear = 500\n",
    "amount_liquidity_tokens = market.initializePool(A, amount_eth, amount_bull, amount_bear)"
   ]
  },
  {
   "cell_type": "code",
   "execution_count": 7,
   "metadata": {},
   "outputs": [
    {
     "name": "stdout",
     "output_type": "stream",
     "text": [
      "Transactions:\n",
      "TRANSFER: A 1000.0 BULL => Swap\n",
      "TRANSFER: A 500.0 BEAR => Swap\n",
      "TRANSFER: A 1 ETH => Swap\n",
      "MINT: 1.0 LIQUIDITY => A\n",
      "_________________________________________________\n",
      "1.0\n"
     ]
    }
   ],
   "source": [
    "# add more liquidity\n",
    "# disable logging, by passing parameter\n",
    "amount_liquidity_tokens = market.addLiquidity(A, 1, log=False)\n",
    "print(amount_liquidity_tokens)"
   ]
  },
  {
   "cell_type": "code",
   "execution_count": 8,
   "metadata": {},
   "outputs": [
    {
     "name": "stdout",
     "output_type": "stream",
     "text": [
      "Transactions:\n",
      "BURN: A => 0.5 LIQUIDITY\n",
      "TRANSFER: Swap 0.5 ETH => A\n",
      "TRANSFER: Swap 500.0 BULL => A\n",
      "TRANSFER: Swap 250.0 BEAR => A\n",
      "_________________________________________________\n",
      "\u001b[1mToken price\u001b[0m\n",
      "Mint: \u001b[94m0.00010180435427287193\u001b[0m \u001b[91m0.00010180435427287193\u001b[0m\n",
      "Swap: \u001b[94m0.00033355570380255717\u001b[0m \u001b[91m0.001335113484646211\u001b[0m\n",
      "_________________________________________________\n",
      "\n",
      "\u001b[1mPool sizes\u001b[0m\n",
      "\u001b[94mBULL\u001b[0m: 1500.0 tokens & 0.5 ETH\n",
      "\u001b[91mBEAR\u001b[0m: 750.0 tokens & 1.0 ETH\n",
      "_________________________________________________\n",
      "\n",
      "\u001b[1mBuying certifictes for 0.001 ETH:\u001b[0m\n",
      "\u001b[94mBull swap\u001b[0m: Tokens out: 2.99401 Average price: 0.00033 ETH\n",
      "\u001b[91mBear swap\u001b[0m: Tokens out: 0.74925 Average price: 0.00133 ETH\n",
      "_________________________________________________\n",
      "\n",
      "\u001b[1mSelling 1 certifictes:\u001b[0m\n",
      "\u001b[94mBull swap\u001b[0m: ETH out: 0.00033 Average price: 0.00033 ETH\n",
      "\u001b[91mBear swap\u001b[0m: ETH out: 0.00133 Average price: 0.00133 ETH\n",
      "_________________________________________________\n",
      "\n",
      "NFT Value: 0.5ETH\n",
      "_________________________________________________\n",
      "\n",
      "A balance: 9999997.6ETH 7400.99BULL 8150.99BEAR 1.5LT\n"
     ]
    }
   ],
   "source": [
    "# remove liquidity\n",
    "amount_eth, amount_bull, amount_bear = market.removeLiquidity(A, 0.5)"
   ]
  },
  {
   "cell_type": "code",
   "execution_count": 9,
   "metadata": {},
   "outputs": [
    {
     "name": "stdout",
     "output_type": "stream",
     "text": [
      "Transactions:\n",
      "TRANSFER: A 100 BEAR => Swap\n",
      "TRANSFER: Swap 0.11764705882352944 ETH => A\n",
      "_________________________________________________\n",
      "\u001b[1mToken price\u001b[0m\n",
      "Mint: \u001b[94m0.00010180435427287193\u001b[0m \u001b[91m0.00010180435427287193\u001b[0m\n",
      "Swap: \u001b[94m0.00033355570380255717\u001b[0m \u001b[91m0.0010392849719392805\u001b[0m\n",
      "_________________________________________________\n",
      "\n",
      "\u001b[1mPool sizes\u001b[0m\n",
      "\u001b[94mBULL\u001b[0m: 1500.0 tokens & 0.5 ETH\n",
      "\u001b[91mBEAR\u001b[0m: 850.0 tokens & 0.88235 ETH\n",
      "_________________________________________________\n",
      "\n",
      "\u001b[1mBuying certifictes for 0.001 ETH:\u001b[0m\n",
      "\u001b[94mBull swap\u001b[0m: Tokens out: 2.99401 Average price: 0.00033 ETH\n",
      "\u001b[91mBear swap\u001b[0m: Tokens out: 0.96224 Average price: 0.00104 ETH\n",
      "_________________________________________________\n",
      "\n",
      "\u001b[1mSelling 1 certifictes:\u001b[0m\n",
      "\u001b[94mBull swap\u001b[0m: ETH out: 0.00033 Average price: 0.00033 ETH\n",
      "\u001b[91mBear swap\u001b[0m: ETH out: 0.00104 Average price: 0.00104 ETH\n",
      "_________________________________________________\n",
      "\n",
      "NFT Value: 0.57ETH\n",
      "_________________________________________________\n",
      "\n",
      "A balance: 9999997.72ETH 7400.99BULL 8050.99BEAR 1.5LT\n",
      "0.11764705882352944\n"
     ]
    }
   ],
   "source": [
    "# sell tokens\n",
    "amount_out = market.swap(A, TokenType.BEAR, False, 100)\n",
    "print(amount_out)"
   ]
  },
  {
   "cell_type": "code",
   "execution_count": 10,
   "metadata": {},
   "outputs": [
    {
     "name": "stdout",
     "output_type": "stream",
     "text": [
      "Transactions:\n",
      "TRANSFER: B 0.1 ETH => Swap\n",
      "TRANSFER: Swap 250.0 BULL => B\n",
      "_________________________________________________\n",
      "\u001b[1mToken price\u001b[0m\n",
      "Mint: \u001b[94m0.00010180435427287193\u001b[0m \u001b[91m0.00010180435427287193\u001b[0m\n",
      "Swap: \u001b[94m0.00048038430744601346\u001b[0m \u001b[91m0.0010392849719393915\u001b[0m\n",
      "_________________________________________________\n",
      "\n",
      "\u001b[1mPool sizes\u001b[0m\n",
      "\u001b[94mBULL\u001b[0m: 1250.0 tokens & 0.6 ETH\n",
      "\u001b[91mBEAR\u001b[0m: 850.0 tokens & 0.88235 ETH\n",
      "_________________________________________________\n",
      "\n",
      "\u001b[1mBuying certifictes for 0.001 ETH:\u001b[0m\n",
      "\u001b[94mBull swap\u001b[0m: Tokens out: 2.07987 Average price: 0.00048 ETH\n",
      "\u001b[91mBear swap\u001b[0m: Tokens out: 0.96224 Average price: 0.00104 ETH\n",
      "_________________________________________________\n",
      "\n",
      "\u001b[1mSelling 1 certifictes:\u001b[0m\n",
      "\u001b[94mBull swap\u001b[0m: ETH out: 0.00048 Average price: 0.00048 ETH\n",
      "\u001b[91mBear swap\u001b[0m: ETH out: 0.00104 Average price: 0.00104 ETH\n",
      "_________________________________________________\n",
      "\n",
      "NFT Value: 0.68ETH\n",
      "_________________________________________________\n",
      "\n",
      "B balance: 9999999.9ETH 250.0BULL 0BEAR 0LT\n",
      "250.0\n"
     ]
    }
   ],
   "source": [
    "# buy tokens\n",
    "amount_out = market.swap(B, TokenType.BULL, True, 0.1)\n",
    "print(amount_out)"
   ]
  },
  {
   "cell_type": "code",
   "execution_count": 11,
   "metadata": {},
   "outputs": [
    {
     "data": {
      "image/png": "[encoded data removed]",
      "text/plain": [
       "<Figure size 432x288 with 1 Axes>"
      ]
     },
     "metadata": {
      "needs_background": "light"
     },
     "output_type": "display_data"
    }
   ],
   "source": [
    "# number of supply of tokens based on deposited eth \n",
    "import matplotlib.pyplot as plt\n",
    "import numpy as np\n",
    "from lib.formula import *\n",
    "x = np.arange(0.0, 1000, 0.001)\n",
    "plt.plot(x, token_formula(x), 'r-')\n",
    "plt.ylim((0, factor))\n",
    "plt.xlabel(\"ETH\")\n",
    "plt.ylabel(\"Token supply\")\n",
    "plt.show()"
   ]
  },
  {
   "cell_type": "code",
   "execution_count": null,
   "metadata": {},
   "outputs": [],
   "source": []
  }
 ],
 "metadata": {
  "kernelspec": {
   "display_name": "Python 3.8.3 64-bit ('base': conda)",
   "metadata": {
    "interpreter": {
     "hash": "76c2c3920dc5b18a3a26fc192b35c54e67ea9e192905d15409e0d204d391ec86"
    }
   },
   "name": "python3"
  },
  "language_info": {
   "codemirror_mode": {
    "name": "ipython",
    "version": 3
   },
   "file_extension": ".py",
   "mimetype": "text/x-python",
   "name": "python",
   "nbconvert_exporter": "python",
   "pygments_lexer": "ipython3",
   "version": "3.8.9"
  },
  "orig_nbformat": 2
 },
 "nbformat": 4,
 "nbformat_minor": 2
}
