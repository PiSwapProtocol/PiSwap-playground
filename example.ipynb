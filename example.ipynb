{
 "cells": [
  {
   "cell_type": "code",
   "execution_count": 1,
   "metadata": {},
   "outputs": [],
   "source": [
    "# autoreload libraries automatically when making changes\n",
    "%load_ext autoreload\n",
    "%autoreload 2"
   ]
  },
  {
   "cell_type": "code",
   "execution_count": 2,
   "metadata": {},
   "outputs": [],
   "source": [
    "# import PiSwap models\n",
    "from lib.market import PiSwapMarket\n",
    "from lib.account import Account\n",
    "from lib.types import TokenType, SwapKind"
   ]
  },
  {
   "cell_type": "code",
   "execution_count": 3,
   "metadata": {},
   "outputs": [],
   "source": [
    "# create a new market instance\n",
    "market = PiSwapMarket()\n",
    "# set up investors with initial ETH balances\n",
    "A = Account(\"A\", 10000000)\n",
    "B = Account(\"B\", 10000000)\n",
    "C = Account(\"C\", 10000000)"
   ]
  },
  {
   "cell_type": "code",
   "execution_count": 4,
   "metadata": {},
   "outputs": [
    {
     "name": "stdout",
     "output_type": "stream",
     "text": [
      "TRANSFER: A 10 ETH => Market\n",
      "MINT: 999000.999000999 BULL => A\n",
      "MINT: 999000.999000999 BEAR => A\n",
      "\n",
      "\u001b[1mToken price\u001b[0m\n",
      "Mint: \u001b[94m0.000005010005\u001b[0m \u001b[91m0.000005010005\u001b[0m | combined \u001b[92m0.00001002001\u001b[0m\n",
      "_________________________________________________\n",
      "\n",
      "Cannot get NFT price, swap not initialized\n",
      "_________________________________________________\n",
      "\n"
     ]
    }
   ],
   "source": [
    "# pay 2 ETH to mint bull and bear tokens\n",
    "minted_bull_bear = market.mint(A, SwapKind.GIVEN_IN, 10)"
   ]
  },
  {
   "cell_type": "code",
   "execution_count": 5,
   "metadata": {},
   "outputs": [
    {
     "name": "stdout",
     "output_type": "stream",
     "text": [
      "BURN: A => 1000 BULL\n",
      "BURN: A => 1000 BEAR\n",
      "TRANSFER: Market 0.0100199999700 ETH => A\n",
      "\n",
      "\u001b[1mToken price\u001b[0m\n",
      "Mint: \u001b[94m0.00000500999496998505005\u001b[0m \u001b[91m0.00000500999496998505005\u001b[0m | combined \u001b[92m0.0000100199899399701001\u001b[0m\n",
      "_________________________________________________\n",
      "\n",
      "Cannot get NFT price, swap not initialized\n",
      "_________________________________________________\n",
      "\n"
     ]
    }
   ],
   "source": [
    "# burn 1000 tokens and receive ETH\n",
    "amount_eth = market.burn(A, SwapKind.GIVEN_IN, 1000)"
   ]
  },
  {
   "cell_type": "code",
   "execution_count": 6,
   "metadata": {},
   "outputs": [
    {
     "name": "stdout",
     "output_type": "stream",
     "text": [
      "BURN: A => 99810.470486755 BULL\n",
      "BURN: A => 99810.470486755 BEAR\n",
      "TRANSFER: Market 1 ETH => A\n",
      "\n",
      "\u001b[1mToken price\u001b[0m\n",
      "Mint: \u001b[94m0.00000500899402098705005\u001b[0m \u001b[91m0.00000500899402098705005\u001b[0m | combined \u001b[92m0.0000100179880419741001\u001b[0m\n",
      "_________________________________________________\n",
      "\n",
      "Cannot get NFT price, swap not initialized\n",
      "_________________________________________________\n",
      "\n"
     ]
    }
   ],
   "source": [
    "# burn as many tokens it takes to receive 1 ETH\n",
    "amount_eth = market.burn(A, SwapKind.GIVEN_OUT, 1)"
   ]
  },
  {
   "cell_type": "code",
   "execution_count": 7,
   "metadata": {},
   "outputs": [
    {
     "name": "stdout",
     "output_type": "stream",
     "text": [
      "TRANSFER: A 100000 BULL => Swap\n",
      "TRANSFER: A 50000 BEAR => Swap\n",
      "TRANSFER: A 1 ETH => Swap\n",
      "MINT: 1 LIQUIDITY => A\n",
      "\n",
      "\u001b[1mToken price\u001b[0m\n",
      "Mint: \u001b[94m0.00000500899402098705005\u001b[0m \u001b[91m0.00000500899402098705005\u001b[0m | combined \u001b[92m0.0000100179880419741001\u001b[0m\n",
      "Swap: \u001b[94m0.00000333333333333333333\u001b[0m \u001b[91m0.0000133333333333333333\u001b[0m | combined \u001b[92m0.0000166666666666666666\u001b[0m\n",
      "_________________________________________________\n",
      "\n",
      "\u001b[1mPool sizes\u001b[0m\n",
      "\n",
      "ETH: 0.333333333333333333 ETH / \u001b[94mBULL\u001b[0m: 100000 tokens\n",
      "ETH: 0.666666666666666667 ETH / \u001b[91mBEAR\u001b[0m: 50000 tokens\n",
      "_________________________________________________\n",
      "\n",
      "\u001b[1mAmount liquidity held by pool\u001b[0m: 0 % / 0E-17 ETH\n",
      "Locked Liquidity for swap: 0 ETH\n",
      "_________________________________________________\n",
      "\n",
      "NFT Value: 0.25 ETH\n",
      "_________________________________________________\n",
      "\n"
     ]
    }
   ],
   "source": [
    "# add initial liquidity\n",
    "amount_eth = 1\n",
    "amount_bull = 100000\n",
    "amount_bear = 50000\n",
    "amount_liquidity_tokens = market.initializePool(A, amount_eth, amount_bull, amount_bear)"
   ]
  },
  {
   "cell_type": "code",
   "execution_count": 8,
   "metadata": {},
   "outputs": [
    {
     "name": "stdout",
     "output_type": "stream",
     "text": [
      "1\n"
     ]
    }
   ],
   "source": [
    "# add more liquidity\n",
    "# disable all logging, by passing parameter\n",
    "amount_liquidity_tokens = market.addLiquidity(A, 1, log=False)\n",
    "print(amount_liquidity_tokens)"
   ]
  },
  {
   "cell_type": "code",
   "execution_count": 9,
   "metadata": {},
   "outputs": [
    {
     "name": "stdout",
     "output_type": "stream",
     "text": [
      "TRANSFER: A 100000.000000000000 BULL => Swap\n",
      "TRANSFER: A 50000.000000000000 BEAR => Swap\n",
      "TRANSFER: A 1 ETH => Swap\n",
      "MINT: 1 LIQUIDITY => A\n"
     ]
    }
   ],
   "source": [
    "# disable logging, but enable transaction logging\n",
    "amount_liquidity_tokens = market.addLiquidity(A, 1, log=False, txLog=True)"
   ]
  },
  {
   "cell_type": "code",
   "execution_count": 10,
   "metadata": {},
   "outputs": [
    {
     "name": "stdout",
     "output_type": "stream",
     "text": [
      "\n",
      "\u001b[1mToken price\u001b[0m\n",
      "Mint: \u001b[94m0.00000500899402098705005\u001b[0m \u001b[91m0.00000500899402098705005\u001b[0m | combined \u001b[92m0.0000100179880419741001\u001b[0m\n",
      "Swap: \u001b[94m0.00000333333333333333332\u001b[0m \u001b[91m0.0000133333333333333334\u001b[0m | combined \u001b[92m0.0000166666666666666667\u001b[0m\n",
      "_________________________________________________\n",
      "\n",
      "\u001b[1mPool sizes\u001b[0m\n",
      "\n",
      "ETH: 1.33333333333333333 ETH / \u001b[94mBULL\u001b[0m: 400000.000000000000 tokens\n",
      "ETH: 2.66666666666666667 ETH / \u001b[91mBEAR\u001b[0m: 200000.000000000000 tokens\n",
      "_________________________________________________\n",
      "\n",
      "\u001b[1mAmount liquidity held by pool\u001b[0m: 0 % / 0E-17 ETH\n",
      "Locked Liquidity for swap: 0 ETH\n",
      "_________________________________________________\n",
      "\n",
      "NFT Value: 0.25 ETH\n",
      "_________________________________________________\n",
      "\n"
     ]
    }
   ],
   "source": [
    "# enable logging, but disable transaction logging\n",
    "amount_liquidity_tokens = market.addLiquidity(A, 1, txLog=False)"
   ]
  },
  {
   "cell_type": "code",
   "execution_count": 11,
   "metadata": {},
   "outputs": [
    {
     "name": "stdout",
     "output_type": "stream",
     "text": [
      "BURN: A => 0.5 LIQUIDITY\n",
      "TRANSFER: Swap 0.500 ETH => A\n",
      "TRANSFER: Swap 50000.0000000000000 BULL => A\n",
      "TRANSFER: Swap 25000.0000000000000 BEAR => A\n",
      "\n",
      "\u001b[1mToken price\u001b[0m\n",
      "Mint: \u001b[94m0.00000500899402098705005\u001b[0m \u001b[91m0.00000500899402098705005\u001b[0m | combined \u001b[92m0.0000100179880419741001\u001b[0m\n",
      "Swap: \u001b[94m0.00000333333333333333334\u001b[0m \u001b[91m0.0000133333333333333333\u001b[0m | combined \u001b[92m0.0000166666666666666666\u001b[0m\n",
      "_________________________________________________\n",
      "\n",
      "\u001b[1mPool sizes\u001b[0m\n",
      "\n",
      "ETH: 1.16666666666666667 ETH / \u001b[94mBULL\u001b[0m: 350000.000000000000 tokens\n",
      "ETH: 2.33333333333333333 ETH / \u001b[91mBEAR\u001b[0m: 175000.000000000000 tokens\n",
      "_________________________________________________\n",
      "\n",
      "\u001b[1mAmount liquidity held by pool\u001b[0m: 0E+1 % / 0E-16 ETH\n",
      "Locked Liquidity for swap: 0 ETH\n",
      "_________________________________________________\n",
      "\n",
      "NFT Value: 0.25 ETH\n",
      "_________________________________________________\n",
      "\n"
     ]
    }
   ],
   "source": [
    "# remove liquidity\n",
    "amount_eth, amount_bull, amount_bear = market.removeLiquidity(A, 0.5)"
   ]
  },
  {
   "cell_type": "code",
   "execution_count": 12,
   "metadata": {},
   "outputs": [
    {
     "name": "stdout",
     "output_type": "stream",
     "text": [
      "TRANSFER: B 1 ETH => Swap\n",
      "TRANSFER: Swap 110526.315789473684 BULL => B\n",
      "MINT: 0.189189189189189210 LIQUIDITY => Swap\n",
      "\n",
      "\u001b[1mToken price\u001b[0m\n",
      "Mint: \u001b[94m0.00000500899402098705005\u001b[0m \u001b[91m0.00000500899402098705005\u001b[0m | combined \u001b[92m0.0000100179880419741001\u001b[0m\n",
      "Swap: \u001b[94m0.00000793406593406593406\u001b[0m \u001b[91m0.0000148571428571428571\u001b[0m | combined \u001b[92m0.0000227912087912087912\u001b[0m\n",
      "_________________________________________________\n",
      "\n",
      "\u001b[1mPool sizes\u001b[0m\n",
      "\n",
      "ETH: 1.90000000000000000 ETH / \u001b[94mBULL\u001b[0m: 239473.684210526316 tokens\n",
      "ETH: 2.60000000000000000 ETH / \u001b[91mBEAR\u001b[0m: 175000.000000000000 tokens\n",
      "_________________________________________________\n",
      "\n",
      "\u001b[1mAmount liquidity held by pool\u001b[0m: 5.12820512820512874 % / 0.461538461538461586 ETH\n",
      "Locked Liquidity for swap: 0.1093883538856 ETH\n",
      "_________________________________________________\n",
      "\n",
      "NFT Value: 0.534023668639053254 ETH\n",
      "_________________________________________________\n",
      "\n",
      "110526.315789473684\n"
     ]
    }
   ],
   "source": [
    "# buy tokens\n",
    "# specify amount of ETH given in\n",
    "amount_out = market.swap(B, TokenType.ETH, TokenType.BULL, SwapKind.GIVEN_IN, 1)\n",
    "print(amount_out)"
   ]
  },
  {
   "cell_type": "code",
   "execution_count": 13,
   "metadata": {},
   "outputs": [
    {
     "name": "stdout",
     "output_type": "stream",
     "text": [
      "TRANSFER: A 15909.0909090909101 BEAR => Swap\n",
      "TRANSFER: Swap 0.200000000000000011102230246251565404236316680908203125 ETH => A\n",
      "MINT: 0.00716347415376540126 LIQUIDITY => Swap\n",
      "\n",
      "\u001b[1mToken price\u001b[0m\n",
      "Mint: \u001b[94m0.00000500899402098705005\u001b[0m \u001b[91m0.00000500899402098705005\u001b[0m | combined \u001b[92m0.0000100179880419741001\u001b[0m\n",
      "Swap: \u001b[94m0.00000796493778594945911\u001b[0m \u001b[91m0.0000125327033537150267\u001b[0m | combined \u001b[92m0.0000204976411396644858\u001b[0m\n",
      "_________________________________________________\n",
      "\n",
      "\u001b[1mPool sizes\u001b[0m\n",
      "\n",
      "ETH: 1.90739299610894942 ETH / \u001b[94mBULL\u001b[0m: 239473.684210526316 tokens\n",
      "ETH: 2.39260700389105057 ETH / \u001b[91mBEAR\u001b[0m: 190909.090909090910 tokens\n",
      "_________________________________________________\n",
      "\n",
      "\u001b[1mAmount liquidity held by pool\u001b[0m: 5.31206519578612617 % / 0.456837606837606849 ETH\n",
      "Locked Liquidity for swap: 0.1135304570402 ETH\n",
      "_________________________________________________\n",
      "\n",
      "NFT Value: 0.635532299867964209 ETH\n",
      "_________________________________________________\n",
      "\n",
      "15909.0909090909101\n"
     ]
    }
   ],
   "source": [
    "# sell tokens\n",
    "# specify amount of ETH received\n",
    "amount_out = market.swap(A, TokenType.BEAR, TokenType.ETH, SwapKind.GIVEN_OUT, 0.2)\n",
    "print(amount_out)"
   ]
  },
  {
   "cell_type": "code",
   "execution_count": 14,
   "metadata": {},
   "outputs": [
    {
     "data": {
      "image/png": "[encoded data removed]",
      "text/plain": [
       "<Figure size 432x288 with 1 Axes>"
      ]
     },
     "metadata": {
      "needs_background": "light"
     },
     "output_type": "display_data"
    }
   ],
   "source": [
    "# number of supply of tokens based on deposited eth \n",
    "import matplotlib.pyplot as plt\n",
    "import numpy as np\n",
    "from lib.formula import *\n",
    "x = np.arange(Decimal(0.0), Decimal(100000), Decimal(1))\n",
    "plt.plot(x, token_formula(x), 'r-')\n",
    "plt.ylim((0, maxSupply))\n",
    "plt.xlabel(\"deposited ETH\")\n",
    "plt.ylabel(\"Bull & Bear token supply\")\n",
    "# plt.show()\n",
    "plt.savefig('filename.pdf')"
   ]
  },
  {
   "cell_type": "code",
   "execution_count": null,
   "metadata": {},
   "outputs": [],
   "source": []
  }
 ],
 "metadata": {
  "kernelspec": {
   "display_name": "Python 3.8.3 64-bit ('base': conda)",
   "metadata": {
    "interpreter": {
     "hash": "76c2c3920dc5b18a3a26fc192b35c54e67ea9e192905d15409e0d204d391ec86"
    }
   },
   "name": "python3"
  },
  "language_info": {
   "codemirror_mode": {
    "name": "ipython",
    "version": 3
   },
   "file_extension": ".py",
   "mimetype": "text/x-python",
   "name": "python",
   "nbconvert_exporter": "python",
   "pygments_lexer": "ipython3",
   "version": "3.8.9"
  },
  "orig_nbformat": 2
 },
 "nbformat": 4,
 "nbformat_minor": 2
}
